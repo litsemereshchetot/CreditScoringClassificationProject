{
  "cells": [
    {
      "cell_type": "markdown",
      "metadata": {
        "id": "46AgVJp-NXG8"
      },
      "source": [
        "# Credit Scoring Classification Project\n",
        "\n",
        "Цель проекта — построить модель машинного обучения, которая по финансовым данным клиента\n",
        "классифицирует его кредитный рейтинг как **Good**, **Standard** или **Poor**.\n",
        "\n",
        "Датасет содержит 100 000 записей с 28 признаками: возраст, доход, история платежей, кредиты и т.д.\n",
        "\n",
        "ссылка на Kaggle:https://www.kaggle.com/datasets/parisrohan/credit-score-classification/data\n"
      ]
    },
    {
      "cell_type": "markdown",
      "metadata": {
        "id": "a-23zdYdNsmm"
      },
      "source": [
        "Импорт библиотек"
      ]
    },
    {
      "cell_type": "code",
      "execution_count": 65,
      "metadata": {
        "id": "3iR_M37RNWKb"
      },
      "outputs": [],
      "source": [
        "import pandas as pd\n",
        "import numpy as np\n",
        "import matplotlib.pyplot as plt\n",
        "import seaborn as sns\n",
        "\n",
        "from sklearn.model_selection import train_test_split\n",
        "from sklearn.preprocessing import OneHotEncoder, StandardScaler, LabelEncoder\n",
        "from sklearn.compose import ColumnTransformer\n",
        "from sklearn.pipeline import Pipeline\n",
        "from sklearn.linear_model import LogisticRegression\n",
        "from sklearn.ensemble import RandomForestClassifier\n",
        "from xgboost import XGBClassifier\n",
        "from sklearn.metrics import accuracy_score, classification_report, confusion_matrix"
      ]
    },
    {
      "cell_type": "markdown",
      "metadata": {
        "id": "RCfItLE2N--Y"
      },
      "source": [
        "Загрузка данных"
      ]
    },
    {
      "cell_type": "code",
      "execution_count": null,
      "metadata": {
        "colab": {
          "base_uri": "https://localhost:8080/",
          "height": 377
        },
        "id": "b8cPx_wsNur-",
        "outputId": "20b9ba4a-fb75-4507-94a6-7bcfa0288bd8"
      },
      "outputs": [],
      "source": [
        "train = pd.read_csv('/content/drive/MyDrive/ml corse/dataframes/train.csv')\n",
        "test = pd.read_csv('/content/drive/MyDrive/ml corse/dataframes/test.csv')\n",
        "train.head()"
      ]
    },
    {
      "cell_type": "code",
      "execution_count": 67,
      "metadata": {
        "colab": {
          "base_uri": "https://localhost:8080/"
        },
        "id": "qBPPz8ytiXGR",
        "outputId": "bb965328-58f2-488e-cadc-1e947b14febc"
      },
      "outputs": [
        {
          "name": "stdout",
          "output_type": "stream",
          "text": [
            "<class 'pandas.core.frame.DataFrame'>\n",
            "RangeIndex: 100000 entries, 0 to 99999\n",
            "Data columns (total 28 columns):\n",
            " #   Column                    Non-Null Count   Dtype  \n",
            "---  ------                    --------------   -----  \n",
            " 0   ID                        100000 non-null  object \n",
            " 1   Customer_ID               100000 non-null  object \n",
            " 2   Month                     100000 non-null  object \n",
            " 3   Name                      90015 non-null   object \n",
            " 4   Age                       100000 non-null  object \n",
            " 5   SSN                       100000 non-null  object \n",
            " 6   Occupation                100000 non-null  object \n",
            " 7   Annual_Income             100000 non-null  object \n",
            " 8   Monthly_Inhand_Salary     84998 non-null   float64\n",
            " 9   Num_Bank_Accounts         100000 non-null  int64  \n",
            " 10  Num_Credit_Card           100000 non-null  int64  \n",
            " 11  Interest_Rate             100000 non-null  int64  \n",
            " 12  Num_of_Loan               100000 non-null  object \n",
            " 13  Type_of_Loan              88592 non-null   object \n",
            " 14  Delay_from_due_date       100000 non-null  int64  \n",
            " 15  Num_of_Delayed_Payment    92998 non-null   object \n",
            " 16  Changed_Credit_Limit      100000 non-null  object \n",
            " 17  Num_Credit_Inquiries      98035 non-null   float64\n",
            " 18  Credit_Mix                100000 non-null  object \n",
            " 19  Outstanding_Debt          100000 non-null  object \n",
            " 20  Credit_Utilization_Ratio  100000 non-null  float64\n",
            " 21  Credit_History_Age        90970 non-null   object \n",
            " 22  Payment_of_Min_Amount     100000 non-null  object \n",
            " 23  Total_EMI_per_month       100000 non-null  float64\n",
            " 24  Amount_invested_monthly   95521 non-null   object \n",
            " 25  Payment_Behaviour         100000 non-null  object \n",
            " 26  Monthly_Balance           98800 non-null   object \n",
            " 27  Credit_Score              100000 non-null  object \n",
            "dtypes: float64(4), int64(4), object(20)\n",
            "memory usage: 21.4+ MB\n"
          ]
        }
      ],
      "source": [
        "train.info()"
      ]
    },
    {
      "cell_type": "markdown",
      "metadata": {
        "id": "P104d8iXPQVq"
      },
      "source": [
        "Предобработка данных. Замена некорректных значений и типов"
      ]
    },
    {
      "cell_type": "code",
      "execution_count": 68,
      "metadata": {
        "id": "yFXk4MxyOBWQ"
      },
      "outputs": [],
      "source": [
        "train['Age'] = pd.to_numeric(train['Age'], errors='coerce')\n",
        "train.loc[train['Age'] < 0, 'Age'] = np.nan  # убираем отрицательные значения"
      ]
    },
    {
      "cell_type": "markdown",
      "metadata": {
        "id": "D-mbGBvFOH6M"
      },
      "source": [
        "Заполнение пропусков"
      ]
    },
    {
      "cell_type": "code",
      "execution_count": 69,
      "metadata": {
        "id": "fiPXT2o_OIsA"
      },
      "outputs": [],
      "source": [
        "\n",
        "force_numeric = [\n",
        "    'Age', 'Annual_Income', 'Monthly_Inhand_Salary', 'Num_of_Loan',\n",
        "    'Num_of_Delayed_Payment', 'Changed_Credit_Limit', 'Num_Credit_Inquiries',\n",
        "    'Outstanding_Debt', 'Credit_Utilization_Ratio', 'Total_EMI_per_month',\n",
        "    'Amount_invested_monthly', 'Monthly_Balance', 'Credit_History_Age_months'\n",
        "]\n",
        "\n",
        "\n",
        "for col in force_numeric:\n",
        "    if col in train.columns:\n",
        "        train[col] = pd.to_numeric(train[col], errors='coerce')\n",
        "    if col in test.columns:\n",
        "        test[col] = pd.to_numeric(test[col], errors='coerce')\n",
        "\n",
        "num_cols = train.select_dtypes(include=[np.number]).columns.tolist()\n",
        "\n",
        "for col in num_cols:\n",
        "    if col == 'Credit_Score':\n",
        "        continue\n",
        "    med = train[col].median()\n",
        "    train[col] = train[col].fillna(med)\n",
        "    if col in test.columns:\n",
        "        test[col] = test[col].fillna(med)\n",
        "\n",
        "cat_cols = train.select_dtypes(include=['object']).columns.tolist()\n",
        "cat_cols = [c for c in cat_cols if c != 'Credit_Score']\n",
        "\n",
        "for col in cat_cols:\n",
        "    train[col] = train[col].fillna('Unknown')\n",
        "    if col in test.columns:\n",
        "        test[col] = test[col].fillna('Unknown')"
      ]
    },
    {
      "cell_type": "markdown",
      "metadata": {
        "id": "Amo7KTdqOMz6"
      },
      "source": [
        "Преобразуем Credit_History_Age в месяцы"
      ]
    },
    {
      "cell_type": "code",
      "execution_count": 70,
      "metadata": {
        "id": "KV_YoaJ_OOBB"
      },
      "outputs": [],
      "source": [
        "def to_months(x):\n",
        "    try:\n",
        "        parts = x.split()\n",
        "        years = int(parts[0])\n",
        "        months = int(parts[3])\n",
        "        return years * 12 + months\n",
        "    except:\n",
        "        return np.nan\n",
        "\n",
        "train['Credit_History_Age_months'] = train['Credit_History_Age'].apply(to_months)\n",
        "train['Credit_History_Age_months'] = train['Credit_History_Age_months'].fillna(train['Credit_History_Age_months'].median())\n"
      ]
    },
    {
      "cell_type": "markdown",
      "metadata": {
        "id": "HIis6W_eOSA5"
      },
      "source": [
        "Разделение данных"
      ]
    },
    {
      "cell_type": "code",
      "execution_count": 71,
      "metadata": {
        "id": "EWA4cl--OSgH"
      },
      "outputs": [],
      "source": [
        "X = train.drop(columns=['Credit_Score', 'ID', 'Customer_ID', 'Name', 'SSN', 'Month'])\n",
        "y = train['Credit_Score']\n",
        "\n",
        "encoder = LabelEncoder()\n",
        "y_encoded = encoder.fit_transform(y)\n",
        "\n",
        "X_train, X_valid, y_train, y_valid = train_test_split(X, y_encoded, test_size=0.2, random_state=42, stratify=y_encoded)\n"
      ]
    },
    {
      "cell_type": "markdown",
      "metadata": {
        "id": "SlmXZbQOOW5V"
      },
      "source": [
        "Преобразование признаков"
      ]
    },
    {
      "cell_type": "code",
      "execution_count": 72,
      "metadata": {
        "id": "iKVqPqy1OX6r"
      },
      "outputs": [],
      "source": [
        "num_features = X.select_dtypes(include=[np.number]).columns\n",
        "cat_features = X.select_dtypes(include=['object']).columns\n",
        "\n",
        "preprocessor = ColumnTransformer(\n",
        "    transformers=[\n",
        "        ('num', StandardScaler(), num_features),\n",
        "        ('cat', OneHotEncoder(handle_unknown='ignore'), cat_features)\n",
        "    ])\n"
      ]
    },
    {
      "cell_type": "markdown",
      "metadata": {
        "id": "ccAu2AobOc40"
      },
      "source": [
        "Обучение и сравнение моделей"
      ]
    },
    {
      "cell_type": "code",
      "execution_count": 73,
      "metadata": {
        "colab": {
          "base_uri": "https://localhost:8080/"
        },
        "id": "uX6rSjh-OdWc",
        "outputId": "f3e8e483-bea2-4b1d-b916-f1851e88518a"
      },
      "outputs": [
        {
          "name": "stdout",
          "output_type": "stream",
          "text": [
            "LogReg Accuracy: 0.7262\n",
            "\n",
            "              precision    recall  f1-score   support\n",
            "\n",
            "        Good       0.59      0.61      0.60      3566\n",
            "        Poor       0.78      0.69      0.73      5799\n",
            "    Standard       0.75      0.79      0.77     10635\n",
            "\n",
            "    accuracy                           0.73     20000\n",
            "   macro avg       0.71      0.69      0.70     20000\n",
            "weighted avg       0.73      0.73      0.73     20000\n",
            "\n"
          ]
        }
      ],
      "source": [
        "# Logistic Regression\n",
        "pipe_logreg = Pipeline([('preprocess', preprocessor),\n",
        "                        ('model', LogisticRegression(max_iter=1000, random_state=42))])\n",
        "pipe_logreg.fit(X_train, y_train)\n",
        "preds_logreg = pipe_logreg.predict(X_valid)\n",
        "\n",
        "print(f\"LogReg Accuracy: {accuracy_score(y_valid, preds_logreg):.4f}\\n\")\n",
        "try:\n",
        "    target_names = encoder.classes_\n",
        "except NameError:\n",
        "    target_names = None\n",
        "print(classification_report(y_valid, preds_logreg, target_names=target_names))\n",
        "\n"
      ]
    },
    {
      "cell_type": "code",
      "execution_count": 74,
      "metadata": {
        "colab": {
          "base_uri": "https://localhost:8080/"
        },
        "id": "qL4wD-SWl6Pe",
        "outputId": "d7b8dd3a-84c6-4366-b561-8f1ccafe2bba"
      },
      "outputs": [
        {
          "name": "stdout",
          "output_type": "stream",
          "text": [
            "RandomForest Accuracy: 0.7790\n",
            "\n",
            "              precision    recall  f1-score   support\n",
            "\n",
            "        Good       0.72      0.71      0.72      3566\n",
            "        Poor       0.78      0.77      0.77      5799\n",
            "    Standard       0.80      0.81      0.80     10635\n",
            "\n",
            "    accuracy                           0.78     20000\n",
            "   macro avg       0.77      0.76      0.76     20000\n",
            "weighted avg       0.78      0.78      0.78     20000\n",
            "\n"
          ]
        }
      ],
      "source": [
        "# Random Forest\n",
        "pipe_rf = Pipeline([('preprocess', preprocessor),\n",
        "                    ('model', RandomForestClassifier(n_estimators=200, random_state=42, n_jobs=-1))])\n",
        "pipe_rf.fit(X_train, y_train)\n",
        "preds_rf = pipe_rf.predict(X_valid)\n",
        "\n",
        "print(f\"RandomForest Accuracy: {accuracy_score(y_valid, preds_rf):.4f}\\n\")\n",
        "try:\n",
        "    target_names = encoder.classes_\n",
        "except NameError:\n",
        "    target_names = None\n",
        "print(classification_report(y_valid, preds_rf, target_names=target_names))\n"
      ]
    },
    {
      "cell_type": "code",
      "execution_count": 75,
      "metadata": {
        "colab": {
          "base_uri": "https://localhost:8080/"
        },
        "id": "yRD_M4L8l9cT",
        "outputId": "98cb380d-d2cb-4c36-902d-2933f77fe511"
      },
      "outputs": [
        {
          "name": "stdout",
          "output_type": "stream",
          "text": [
            "XGBoost Accuracy: 0.7336\n",
            "\n",
            "              precision    recall  f1-score   support\n",
            "\n",
            "        Good       0.63      0.69      0.66      3566\n",
            "        Poor       0.76      0.68      0.72      5799\n",
            "    Standard       0.76      0.78      0.77     10635\n",
            "\n",
            "    accuracy                           0.73     20000\n",
            "   macro avg       0.72      0.72      0.71     20000\n",
            "weighted avg       0.74      0.73      0.73     20000\n",
            "\n"
          ]
        }
      ],
      "source": [
        "# XGBoost\n",
        "pipe_xgb = Pipeline([('preprocess', preprocessor),\n",
        "                     ('model', XGBClassifier(n_estimators=200, random_state=42,\n",
        "                                             eval_metric='mlogloss', n_jobs=-1))])\n",
        "pipe_xgb.fit(X_train, y_train)\n",
        "preds_xgb = pipe_xgb.predict(X_valid)\n",
        "\n",
        "print(f\"XGBoost Accuracy: {accuracy_score(y_valid, preds_xgb):.4f}\\n\")\n",
        "try:\n",
        "    target_names = encoder.classes_\n",
        "except NameError:\n",
        "    target_names = None\n",
        "print(classification_report(y_valid, preds_xgb, target_names=target_names))"
      ]
    },
    {
      "cell_type": "markdown",
      "metadata": {
        "id": "In1cLmzkOpg1"
      },
      "source": [
        "Важность признаков"
      ]
    },
    {
      "cell_type": "code",
      "execution_count": 76,
      "metadata": {
        "colab": {
          "base_uri": "https://localhost:8080/",
          "height": 472
        },
        "id": "d8rb8L-1OqLu",
        "outputId": "ccfe486f-4f68-4bee-c363-7fd8f4b62c8a"
      },
      "outputs": [
        {
          "data": {
            "image/png": "[encoded data removed]",
            "text/plain": [
              "<Figure size 640x480 with 1 Axes>"
            ]
          },
          "metadata": {},
          "output_type": "display_data"
        }
      ],
      "source": [
        "rf = RandomForestClassifier(n_estimators=200, random_state=42)\n",
        "pipe_rf = Pipeline(steps=[('preprocess', preprocessor), ('model', rf)])\n",
        "pipe_rf.fit(X_train, y_train)\n",
        "\n",
        "importances = pipe_rf.named_steps['model'].feature_importances_\n",
        "feature_names = pipe_rf.named_steps['preprocess'].get_feature_names_out()\n",
        "\n",
        "feat_imp = pd.Series(importances, index=feature_names).sort_values(ascending=False)[:15]\n",
        "sns.barplot(x=feat_imp, y=feat_imp.index)\n",
        "plt.title(\"Top 15 Important Features (RandomForest)\")\n",
        "plt.show()\n"
      ]
    },
    {
      "cell_type": "markdown",
      "metadata": {
        "id": "WhKe4B6COtov"
      },
      "source": [
        "## Выводы\n",
        "\n",
        "- Лучший результат показал **RandomForest** с точностью 0.77.\n",
        "- Основные факторы, влияющие на кредитный рейтинг:\n",
        "  - уровень задолженности (Outstanding_Debt)\n",
        "  - количество просрочек (Num_of_Delayed_Payment)\n",
        "  - кредитная история (Credit_History_Age)\n",
        "  - месячный доход и поведение платежей.\n",
        "- Модель можно улучшить подбором гиперпараметров и балансировкой классов.\n"
      ]
    }
  ],
  "metadata": {
    "colab": {
      "provenance": []
    },
    "kernelspec": {
      "display_name": "Python 3",
      "name": "python3"
    },
    "language_info": {
      "name": "python"
    }
  },
  "nbformat": 4,
  "nbformat_minor": 0
}
